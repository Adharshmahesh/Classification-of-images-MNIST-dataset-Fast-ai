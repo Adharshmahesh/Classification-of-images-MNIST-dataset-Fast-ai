{
  "nbformat": 4,
  "nbformat_minor": 0,
  "metadata": {
    "colab": {
      "name": "CNN_MNIST.ipynb",
      "provenance": [],
      "collapsed_sections": [],
      "authorship_tag": "ABX9TyOcfm9D1ri0WkHjbabYjP6Z",
      "include_colab_link": true
    },
    "kernelspec": {
      "name": "python3",
      "display_name": "Python 3"
    }
  },
  "cells": [
    {
      "cell_type": "markdown",
      "metadata": {
        "id": "view-in-github",
        "colab_type": "text"
      },
      "source": [
        "<a href=\"https://colab.research.google.com/github/Adharshmahesh/Classification-of-images-MNIST-dataset-Fast-ai/blob/main/MNIST_fast_ai.ipynb\" target=\"_parent\"><img src=\"https://colab.research.google.com/assets/colab-badge.svg\" alt=\"Open In Colab\"/></a>"
      ]
    },
    {
      "cell_type": "code",
      "metadata": {
        "id": "3YPOZooP1cWH"
      },
      "source": [
        "from fastai.vision import *\n",
        "from fastai.metrics import error_rate\n"
      ],
      "execution_count": 1,
      "outputs": []
    },
    {
      "cell_type": "code",
      "metadata": {
        "id": "Zoz3BW0e144G",
        "colab": {
          "base_uri": "https://localhost:8080/",
          "height": 51
        },
        "outputId": "fa0c0693-b1db-4bc6-8f1f-8a096ff51b98"
      },
      "source": [
        "path = untar_data(URLs.MNIST)\n",
        "path"
      ],
      "execution_count": 2,
      "outputs": [
        {
          "output_type": "stream",
          "text": [
            "Downloading https://s3.amazonaws.com/fast-ai-imageclas/mnist_png.tgz\n"
          ],
          "name": "stdout"
        },
        {
          "output_type": "display_data",
          "data": {
            "text/html": [
              ""
            ],
            "text/plain": [
              "<IPython.core.display.HTML object>"
            ]
          },
          "metadata": {
            "tags": []
          }
        },
        {
          "output_type": "execute_result",
          "data": {
            "text/plain": [
              "PosixPath('/root/.fastai/data/mnist_png')"
            ]
          },
          "metadata": {
            "tags": []
          },
          "execution_count": 2
        }
      ]
    },
    {
      "cell_type": "code",
      "metadata": {
        "id": "zvYqRRJW2u3l",
        "colab": {
          "base_uri": "https://localhost:8080/"
        },
        "outputId": "467f34e8-7704-43e0-d66d-ce030a1d1972"
      },
      "source": [
        "path.ls()"
      ],
      "execution_count": 3,
      "outputs": [
        {
          "output_type": "execute_result",
          "data": {
            "text/plain": [
              "[PosixPath('/root/.fastai/data/mnist_png/training'),\n",
              " PosixPath('/root/.fastai/data/mnist_png/testing')]"
            ]
          },
          "metadata": {
            "tags": []
          },
          "execution_count": 3
        }
      ]
    },
    {
      "cell_type": "code",
      "metadata": {
        "id": "96ZIVvIf2wwo"
      },
      "source": [
        "image_l = ImageList.from_folder(path, convert_mode='L')"
      ],
      "execution_count": 4,
      "outputs": []
    },
    {
      "cell_type": "code",
      "metadata": {
        "id": "iFzmOpYw3Ia7",
        "colab": {
          "base_uri": "https://localhost:8080/"
        },
        "outputId": "d0efd60c-a186-4f05-a9d4-98bf9e604861"
      },
      "source": [
        "image_l.items[5]"
      ],
      "execution_count": 5,
      "outputs": [
        {
          "output_type": "execute_result",
          "data": {
            "text/plain": [
              "PosixPath('/root/.fastai/data/mnist_png/training/3/59808.png')"
            ]
          },
          "metadata": {
            "tags": []
          },
          "execution_count": 5
        }
      ]
    },
    {
      "cell_type": "code",
      "metadata": {
        "id": "E1D3LBPt7Osf",
        "colab": {
          "base_uri": "https://localhost:8080/"
        },
        "outputId": "75a3436c-7ec3-4d09-f97f-39e034355cec"
      },
      "source": [
        "image_l"
      ],
      "execution_count": 6,
      "outputs": [
        {
          "output_type": "execute_result",
          "data": {
            "text/plain": [
              "ImageList (70000 items)\n",
              "Image (1, 28, 28),Image (1, 28, 28),Image (1, 28, 28),Image (1, 28, 28),Image (1, 28, 28)\n",
              "Path: /root/.fastai/data/mnist_png"
            ]
          },
          "metadata": {
            "tags": []
          },
          "execution_count": 6
        }
      ]
    },
    {
      "cell_type": "code",
      "metadata": {
        "id": "31WcMaga76Fk",
        "colab": {
          "base_uri": "https://localhost:8080/"
        },
        "outputId": "8db63b0a-c541-42f9-9eaf-9d825c9e82ea"
      },
      "source": [
        "dataset = image_l.split_by_folder(train='training', valid='testing')\n",
        "#dataset = dataset.valid\n",
        "dataset"
      ],
      "execution_count": 7,
      "outputs": [
        {
          "output_type": "execute_result",
          "data": {
            "text/plain": [
              "ItemLists;\n",
              "\n",
              "Train: ImageList (60000 items)\n",
              "Image (1, 28, 28),Image (1, 28, 28),Image (1, 28, 28),Image (1, 28, 28),Image (1, 28, 28)\n",
              "Path: /root/.fastai/data/mnist_png;\n",
              "\n",
              "Valid: ImageList (10000 items)\n",
              "Image (1, 28, 28),Image (1, 28, 28),Image (1, 28, 28),Image (1, 28, 28),Image (1, 28, 28)\n",
              "Path: /root/.fastai/data/mnist_png;\n",
              "\n",
              "Test: None"
            ]
          },
          "metadata": {
            "tags": []
          },
          "execution_count": 7
        }
      ]
    },
    {
      "cell_type": "code",
      "metadata": {
        "id": "IgJzt5yCPTZB"
      },
      "source": [
        "defaults.cmap='binary'"
      ],
      "execution_count": 8,
      "outputs": []
    },
    {
      "cell_type": "code",
      "metadata": {
        "id": "QOfxUSwu8Ent",
        "colab": {
          "base_uri": "https://localhost:8080/"
        },
        "outputId": "2cdbe450-823d-48e0-c56d-618b4f4ace6b"
      },
      "source": [
        "label_list = dataset.label_from_folder()\n",
        "label_list"
      ],
      "execution_count": 9,
      "outputs": [
        {
          "output_type": "execute_result",
          "data": {
            "text/plain": [
              "LabelLists;\n",
              "\n",
              "Train: LabelList (60000 items)\n",
              "x: ImageList\n",
              "Image (1, 28, 28),Image (1, 28, 28),Image (1, 28, 28),Image (1, 28, 28),Image (1, 28, 28)\n",
              "y: CategoryList\n",
              "3,3,3,3,3\n",
              "Path: /root/.fastai/data/mnist_png;\n",
              "\n",
              "Valid: LabelList (10000 items)\n",
              "x: ImageList\n",
              "Image (1, 28, 28),Image (1, 28, 28),Image (1, 28, 28),Image (1, 28, 28),Image (1, 28, 28)\n",
              "y: CategoryList\n",
              "3,3,3,3,3\n",
              "Path: /root/.fastai/data/mnist_png;\n",
              "\n",
              "Test: None"
            ]
          },
          "metadata": {
            "tags": []
          },
          "execution_count": 9
        }
      ]
    },
    {
      "cell_type": "code",
      "metadata": {
        "id": "_PqeQGo88qa7"
      },
      "source": [
        "x,y = label_list.train[0]"
      ],
      "execution_count": 10,
      "outputs": []
    },
    {
      "cell_type": "code",
      "metadata": {
        "id": "KpfuGAIP85gD",
        "colab": {
          "base_uri": "https://localhost:8080/",
          "height": 194
        },
        "outputId": "4765ca63-378c-4c89-a0d5-d9be323c5505"
      },
      "source": [
        "x.show()"
      ],
      "execution_count": 11,
      "outputs": [
        {
          "output_type": "display_data",
          "data": {
            "image/png": "[encoded data removed]",
            "text/plain": [
              "<Figure size 216x216 with 1 Axes>"
            ]
          },
          "metadata": {
            "tags": [],
            "needs_background": "light"
          }
        }
      ]
    },
    {
      "cell_type": "code",
      "metadata": {
        "id": "RWofAAxW88GP"
      },
      "source": [
        "tfms = ([*rand_pad(padding=3, size=28, mode='zeros')], [])\n",
        "label_list = label_list.transform(tfms)"
      ],
      "execution_count": 12,
      "outputs": []
    },
    {
      "cell_type": "code",
      "metadata": {
        "id": "ieW3yFwr9gEX"
      },
      "source": [
        "bs = 128\n",
        "data = label_list.databunch(bs=bs).normalize()"
      ],
      "execution_count": 13,
      "outputs": []
    },
    {
      "cell_type": "code",
      "metadata": {
        "id": "HqhfJ2Ji-KXv",
        "colab": {
          "base_uri": "https://localhost:8080/"
        },
        "outputId": "c24fb3a6-a6be-44e9-a97b-68d95866d45f"
      },
      "source": [
        "xb,yb = data.one_batch()\n",
        "xb.shape,yb.shape"
      ],
      "execution_count": 14,
      "outputs": [
        {
          "output_type": "execute_result",
          "data": {
            "text/plain": [
              "(torch.Size([128, 1, 28, 28]), torch.Size([128]))"
            ]
          },
          "metadata": {
            "tags": []
          },
          "execution_count": 14
        }
      ]
    },
    {
      "cell_type": "code",
      "metadata": {
        "id": "m0XvZwku-Pwf",
        "colab": {
          "base_uri": "https://localhost:8080/",
          "height": 369
        },
        "outputId": "a5776c0c-177d-4fc0-85f0-9b358d3b2e3f"
      },
      "source": [
        "data.show_batch(rows=4, figsize=(5,5))"
      ],
      "execution_count": 15,
      "outputs": [
        {
          "output_type": "display_data",
          "data": {
            "image/png": "[encoded data removed]",
            "text/plain": [
              "<Figure size 360x360 with 16 Axes>"
            ]
          },
          "metadata": {
            "tags": [],
            "needs_background": "light"
          }
        }
      ]
    },
    {
      "cell_type": "code",
      "metadata": {
        "id": "W6xgyeckDd2j"
      },
      "source": [
        "def conv_and_res(ni,nf): return nn.Sequential(conv2(ni, nf), res_block(nf))"
      ],
      "execution_count": 16,
      "outputs": []
    },
    {
      "cell_type": "code",
      "metadata": {
        "id": "4iaXjB-ED34Z"
      },
      "source": [
        "def conv2(ni,nf): return conv_layer(ni,nf,stride=2)"
      ],
      "execution_count": 17,
      "outputs": []
    },
    {
      "cell_type": "code",
      "metadata": {
        "id": "qASyflJODddE"
      },
      "source": [
        "model = nn.Sequential(\n",
        "    conv_and_res(1, 8),\n",
        "    conv_and_res(8, 16),\n",
        "    conv_and_res(16, 32),\n",
        "    conv_and_res(32, 16),\n",
        "    conv2(16, 10),\n",
        "    Flatten()\n",
        ")"
      ],
      "execution_count": 18,
      "outputs": []
    },
    {
      "cell_type": "code",
      "metadata": {
        "id": "4IVhqNkz-37w"
      },
      "source": [
        "model = Learner(data, model, loss_func = nn.CrossEntropyLoss(), metrics=accuracy)"
      ],
      "execution_count": 19,
      "outputs": []
    },
    {
      "cell_type": "code",
      "metadata": {
        "id": "jEz-_unEZYzC",
        "colab": {
          "base_uri": "https://localhost:8080/",
          "height": 374
        },
        "outputId": "0400e262-2534-419a-8708-869bdf80ce67"
      },
      "source": [
        "model.lr_find(end_lr=100)\n",
        "model.recorder.plot()"
      ],
      "execution_count": 20,
      "outputs": [
        {
          "output_type": "display_data",
          "data": {
            "text/html": [
              "\n",
              "    <div>\n",
              "        <style>\n",
              "            /* Turns off some styling */\n",
              "            progress {\n",
              "                /* gets rid of default border in Firefox and Opera. */\n",
              "                border: none;\n",
              "                /* Needs to be in here for Safari polyfill so background images work as expected. */\n",
              "                background-size: auto;\n",
              "            }\n",
              "            .progress-bar-interrupted, .progress-bar-interrupted::-webkit-progress-bar {\n",
              "                background: #F44336;\n",
              "            }\n",
              "        </style>\n",
              "      <progress value='0' class='' max='1' style='width:300px; height:20px; vertical-align: middle;'></progress>\n",
              "      0.00% [0/1 00:00<00:00]\n",
              "    </div>\n",
              "    \n",
              "<table border=\"1\" class=\"dataframe\">\n",
              "  <thead>\n",
              "    <tr style=\"text-align: left;\">\n",
              "      <th>epoch</th>\n",
              "      <th>train_loss</th>\n",
              "      <th>valid_loss</th>\n",
              "      <th>accuracy</th>\n",
              "      <th>time</th>\n",
              "    </tr>\n",
              "  </thead>\n",
              "  <tbody>\n",
              "  </tbody>\n",
              "</table><p>\n",
              "\n",
              "    <div>\n",
              "        <style>\n",
              "            /* Turns off some styling */\n",
              "            progress {\n",
              "                /* gets rid of default border in Firefox and Opera. */\n",
              "                border: none;\n",
              "                /* Needs to be in here for Safari polyfill so background images work as expected. */\n",
              "                background-size: auto;\n",
              "            }\n",
              "            .progress-bar-interrupted, .progress-bar-interrupted::-webkit-progress-bar {\n",
              "                background: #F44336;\n",
              "            }\n",
              "        </style>\n",
              "      <progress value='99' class='' max='468' style='width:300px; height:20px; vertical-align: middle;'></progress>\n",
              "      21.15% [99/468 00:12<00:44 3.2530]\n",
              "    </div>\n",
              "    "
            ],
            "text/plain": [
              "<IPython.core.display.HTML object>"
            ]
          },
          "metadata": {
            "tags": []
          }
        },
        {
          "output_type": "stream",
          "text": [
            "LR Finder is complete, type {learner_name}.recorder.plot() to see the graph.\n"
          ],
          "name": "stdout"
        },
        {
          "output_type": "display_data",
          "data": {
            "image/png": "[encoded data removed]",
            "text/plain": [
              "<Figure size 432x288 with 1 Axes>"
            ]
          },
          "metadata": {
            "tags": [],
            "needs_background": "light"
          }
        }
      ]
    },
    {
      "cell_type": "code",
      "metadata": {
        "id": "ZKA48VUfZi1J",
        "colab": {
          "base_uri": "https://localhost:8080/",
          "height": 421
        },
        "outputId": "7ab944c9-4c57-443d-8201-7276cd87e58a"
      },
      "source": [
        "model.fit_one_cycle(12, max_lr=1e-3)"
      ],
      "execution_count": 21,
      "outputs": [
        {
          "output_type": "display_data",
          "data": {
            "text/html": [
              "<table border=\"1\" class=\"dataframe\">\n",
              "  <thead>\n",
              "    <tr style=\"text-align: left;\">\n",
              "      <th>epoch</th>\n",
              "      <th>train_loss</th>\n",
              "      <th>valid_loss</th>\n",
              "      <th>accuracy</th>\n",
              "      <th>time</th>\n",
              "    </tr>\n",
              "  </thead>\n",
              "  <tbody>\n",
              "    <tr>\n",
              "      <td>0</td>\n",
              "      <td>1.710096</td>\n",
              "      <td>1.213474</td>\n",
              "      <td>0.634400</td>\n",
              "      <td>00:58</td>\n",
              "    </tr>\n",
              "    <tr>\n",
              "      <td>1</td>\n",
              "      <td>0.563655</td>\n",
              "      <td>0.370090</td>\n",
              "      <td>0.944000</td>\n",
              "      <td>00:57</td>\n",
              "    </tr>\n",
              "    <tr>\n",
              "      <td>2</td>\n",
              "      <td>0.254442</td>\n",
              "      <td>0.193957</td>\n",
              "      <td>0.969000</td>\n",
              "      <td>00:57</td>\n",
              "    </tr>\n",
              "    <tr>\n",
              "      <td>3</td>\n",
              "      <td>0.151038</td>\n",
              "      <td>0.102050</td>\n",
              "      <td>0.977900</td>\n",
              "      <td>00:58</td>\n",
              "    </tr>\n",
              "    <tr>\n",
              "      <td>4</td>\n",
              "      <td>0.101051</td>\n",
              "      <td>0.063975</td>\n",
              "      <td>0.986500</td>\n",
              "      <td>00:58</td>\n",
              "    </tr>\n",
              "    <tr>\n",
              "      <td>5</td>\n",
              "      <td>0.079590</td>\n",
              "      <td>0.073595</td>\n",
              "      <td>0.982300</td>\n",
              "      <td>00:58</td>\n",
              "    </tr>\n",
              "    <tr>\n",
              "      <td>6</td>\n",
              "      <td>0.072962</td>\n",
              "      <td>0.042905</td>\n",
              "      <td>0.988700</td>\n",
              "      <td>00:58</td>\n",
              "    </tr>\n",
              "    <tr>\n",
              "      <td>7</td>\n",
              "      <td>0.057662</td>\n",
              "      <td>0.034562</td>\n",
              "      <td>0.990400</td>\n",
              "      <td>00:58</td>\n",
              "    </tr>\n",
              "    <tr>\n",
              "      <td>8</td>\n",
              "      <td>0.049763</td>\n",
              "      <td>0.031111</td>\n",
              "      <td>0.991500</td>\n",
              "      <td>00:59</td>\n",
              "    </tr>\n",
              "    <tr>\n",
              "      <td>9</td>\n",
              "      <td>0.050321</td>\n",
              "      <td>0.030017</td>\n",
              "      <td>0.992800</td>\n",
              "      <td>00:59</td>\n",
              "    </tr>\n",
              "    <tr>\n",
              "      <td>10</td>\n",
              "      <td>0.046559</td>\n",
              "      <td>0.029369</td>\n",
              "      <td>0.992900</td>\n",
              "      <td>00:58</td>\n",
              "    </tr>\n",
              "    <tr>\n",
              "      <td>11</td>\n",
              "      <td>0.044482</td>\n",
              "      <td>0.028491</td>\n",
              "      <td>0.993100</td>\n",
              "      <td>00:59</td>\n",
              "    </tr>\n",
              "  </tbody>\n",
              "</table>"
            ],
            "text/plain": [
              "<IPython.core.display.HTML object>"
            ]
          },
          "metadata": {
            "tags": []
          }
        }
      ]
    },
    {
      "cell_type": "code",
      "metadata": {
        "id": "UAzw8wszEbUS",
        "colab": {
          "base_uri": "https://localhost:8080/",
          "height": 1000
        },
        "outputId": "61c07001-435e-4893-e5a3-537fb013f648"
      },
      "source": [
        "model.summary()"
      ],
      "execution_count": 22,
      "outputs": [
        {
          "output_type": "execute_result",
          "data": {
            "application/vnd.google.colaboratory.intrinsic+json": {
              "type": "string"
            },
            "text/plain": [
              "Sequential\n",
              "======================================================================\n",
              "Layer (type)         Output Shape         Param #    Trainable \n",
              "======================================================================\n",
              "Conv2d               [8, 14, 14]          72         True      \n",
              "______________________________________________________________________\n",
              "ReLU                 [8, 14, 14]          0          False     \n",
              "______________________________________________________________________\n",
              "BatchNorm2d          [8, 14, 14]          16         True      \n",
              "______________________________________________________________________\n",
              "Conv2d               [8, 14, 14]          576        True      \n",
              "______________________________________________________________________\n",
              "ReLU                 [8, 14, 14]          0          False     \n",
              "______________________________________________________________________\n",
              "BatchNorm2d          [8, 14, 14]          16         True      \n",
              "______________________________________________________________________\n",
              "Conv2d               [8, 14, 14]          576        True      \n",
              "______________________________________________________________________\n",
              "ReLU                 [8, 14, 14]          0          False     \n",
              "______________________________________________________________________\n",
              "BatchNorm2d          [8, 14, 14]          16         True      \n",
              "______________________________________________________________________\n",
              "MergeLayer           [8, 14, 14]          0          False     \n",
              "______________________________________________________________________\n",
              "Conv2d               [16, 7, 7]           1,152      True      \n",
              "______________________________________________________________________\n",
              "ReLU                 [16, 7, 7]           0          False     \n",
              "______________________________________________________________________\n",
              "BatchNorm2d          [16, 7, 7]           32         True      \n",
              "______________________________________________________________________\n",
              "Conv2d               [16, 7, 7]           2,304      True      \n",
              "______________________________________________________________________\n",
              "ReLU                 [16, 7, 7]           0          False     \n",
              "______________________________________________________________________\n",
              "BatchNorm2d          [16, 7, 7]           32         True      \n",
              "______________________________________________________________________\n",
              "Conv2d               [16, 7, 7]           2,304      True      \n",
              "______________________________________________________________________\n",
              "ReLU                 [16, 7, 7]           0          False     \n",
              "______________________________________________________________________\n",
              "BatchNorm2d          [16, 7, 7]           32         True      \n",
              "______________________________________________________________________\n",
              "MergeLayer           [16, 7, 7]           0          False     \n",
              "______________________________________________________________________\n",
              "Conv2d               [32, 4, 4]           4,608      True      \n",
              "______________________________________________________________________\n",
              "ReLU                 [32, 4, 4]           0          False     \n",
              "______________________________________________________________________\n",
              "BatchNorm2d          [32, 4, 4]           64         True      \n",
              "______________________________________________________________________\n",
              "Conv2d               [32, 4, 4]           9,216      True      \n",
              "______________________________________________________________________\n",
              "ReLU                 [32, 4, 4]           0          False     \n",
              "______________________________________________________________________\n",
              "BatchNorm2d          [32, 4, 4]           64         True      \n",
              "______________________________________________________________________\n",
              "Conv2d               [32, 4, 4]           9,216      True      \n",
              "______________________________________________________________________\n",
              "ReLU                 [32, 4, 4]           0          False     \n",
              "______________________________________________________________________\n",
              "BatchNorm2d          [32, 4, 4]           64         True      \n",
              "______________________________________________________________________\n",
              "MergeLayer           [32, 4, 4]           0          False     \n",
              "______________________________________________________________________\n",
              "Conv2d               [16, 2, 2]           4,608      True      \n",
              "______________________________________________________________________\n",
              "ReLU                 [16, 2, 2]           0          False     \n",
              "______________________________________________________________________\n",
              "BatchNorm2d          [16, 2, 2]           32         True      \n",
              "______________________________________________________________________\n",
              "Conv2d               [16, 2, 2]           2,304      True      \n",
              "______________________________________________________________________\n",
              "ReLU                 [16, 2, 2]           0          False     \n",
              "______________________________________________________________________\n",
              "BatchNorm2d          [16, 2, 2]           32         True      \n",
              "______________________________________________________________________\n",
              "Conv2d               [16, 2, 2]           2,304      True      \n",
              "______________________________________________________________________\n",
              "ReLU                 [16, 2, 2]           0          False     \n",
              "______________________________________________________________________\n",
              "BatchNorm2d          [16, 2, 2]           32         True      \n",
              "______________________________________________________________________\n",
              "MergeLayer           [16, 2, 2]           0          False     \n",
              "______________________________________________________________________\n",
              "Conv2d               [10, 1, 1]           1,440      True      \n",
              "______________________________________________________________________\n",
              "ReLU                 [10, 1, 1]           0          False     \n",
              "______________________________________________________________________\n",
              "BatchNorm2d          [10, 1, 1]           20         True      \n",
              "______________________________________________________________________\n",
              "Flatten              [10]                 0          False     \n",
              "______________________________________________________________________\n",
              "\n",
              "Total params: 41,132\n",
              "Total trainable params: 41,132\n",
              "Total non-trainable params: 0\n",
              "Optimized with 'torch.optim.adam.Adam', betas=(0.9, 0.99)\n",
              "Using true weight decay as discussed in https://www.fast.ai/2018/07/02/adam-weight-decay/ \n",
              "Loss function : CrossEntropyLoss\n",
              "======================================================================\n",
              "Callbacks functions applied "
            ]
          },
          "metadata": {
            "tags": []
          },
          "execution_count": 22
        }
      ]
    },
    {
      "cell_type": "code",
      "metadata": {
        "id": "LSDCK6BjI5n_"
      },
      "source": [
        "model.save('stage-1')"
      ],
      "execution_count": 23,
      "outputs": []
    },
    {
      "cell_type": "code",
      "metadata": {
        "id": "4oRfuDrmJI8t"
      },
      "source": [
        "u,v = label_list.valid[0]\n",
        "#model.validate(dataset)"
      ],
      "execution_count": 24,
      "outputs": []
    },
    {
      "cell_type": "code",
      "metadata": {
        "id": "-vcRu-G6JS6A",
        "colab": {
          "base_uri": "https://localhost:8080/",
          "height": 194
        },
        "outputId": "b600cc81-5bac-4312-f36a-901584ebda2c"
      },
      "source": [
        "u.show()"
      ],
      "execution_count": 25,
      "outputs": [
        {
          "output_type": "display_data",
          "data": {
            "image/png": "[encoded data removed]",
            "text/plain": [
              "<Figure size 216x216 with 1 Axes>"
            ]
          },
          "metadata": {
            "tags": [],
            "needs_background": "light"
          }
        }
      ]
    },
    {
      "cell_type": "code",
      "metadata": {
        "id": "cgk2fBHDNqT-"
      },
      "source": [
        "dataset_valid = dataset.valid.split_none()\n",
        "#model.validate(data.valid_dl)"
      ],
      "execution_count": 26,
      "outputs": []
    },
    {
      "cell_type": "code",
      "metadata": {
        "id": "Do5qwLllOM3n",
        "colab": {
          "base_uri": "https://localhost:8080/"
        },
        "outputId": "4f94c627-2e77-4f96-9d5e-8c9536f3e232"
      },
      "source": [
        "label_list_valid = dataset_valid.label_from_folder()\n",
        "label_list_valid"
      ],
      "execution_count": 27,
      "outputs": [
        {
          "output_type": "execute_result",
          "data": {
            "text/plain": [
              "LabelLists;\n",
              "\n",
              "Train: LabelList (10000 items)\n",
              "x: ImageList\n",
              "Image (1, 28, 28),Image (1, 28, 28),Image (1, 28, 28),Image (1, 28, 28),Image (1, 28, 28)\n",
              "y: CategoryList\n",
              "3,3,3,3,3\n",
              "Path: /root/.fastai/data/mnist_png;\n",
              "\n",
              "Valid: LabelList (0 items)\n",
              "x: ImageList\n",
              "\n",
              "y: CategoryList\n",
              "\n",
              "Path: /root/.fastai/data/mnist_png;\n",
              "\n",
              "Test: None"
            ]
          },
          "metadata": {
            "tags": []
          },
          "execution_count": 27
        }
      ]
    },
    {
      "cell_type": "code",
      "metadata": {
        "id": "gX78RJdWV7B9"
      },
      "source": [
        "data_val = label_list_valid.databunch(bs=bs).normalize()"
      ],
      "execution_count": 28,
      "outputs": []
    },
    {
      "cell_type": "code",
      "metadata": {
        "id": "E18_np_OYBmp",
        "colab": {
          "base_uri": "https://localhost:8080/",
          "height": 34
        },
        "outputId": "8cf17c75-c814-47e5-ee57-6c36d5757dcd"
      },
      "source": [
        "model.validate(data_val.train_dl)"
      ],
      "execution_count": 29,
      "outputs": [
        {
          "output_type": "display_data",
          "data": {
            "text/html": [
              ""
            ],
            "text/plain": [
              "<IPython.core.display.HTML object>"
            ]
          },
          "metadata": {
            "tags": []
          }
        },
        {
          "output_type": "execute_result",
          "data": {
            "text/plain": [
              "[0.02877459, tensor(0.9921)]"
            ]
          },
          "metadata": {
            "tags": []
          },
          "execution_count": 29
        }
      ]
    },
    {
      "cell_type": "code",
      "metadata": {
        "id": "BV1qMz93YHWr"
      },
      "source": [
        ""
      ],
      "execution_count": null,
      "outputs": []
    }
  ]
}